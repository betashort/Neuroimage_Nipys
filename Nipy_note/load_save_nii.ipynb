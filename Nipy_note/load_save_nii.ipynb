{
 "cells": [
  {
   "cell_type": "code",
   "execution_count": 1,
   "metadata": {},
   "outputs": [],
   "source": [
    "from nipy import load_image, save_image\n",
    "from nipy.core.api import Image\n",
    "\n",
    "from nipy.core.reference.coordinate_map import AffineTransform, CoordinateSystem"
   ]
  },
  {
   "cell_type": "code",
   "execution_count": 9,
   "metadata": {},
   "outputs": [],
   "source": [
    "import os"
   ]
  },
  {
   "cell_type": "code",
   "execution_count": 25,
   "metadata": {},
   "outputs": [
    {
     "data": {
      "text/plain": [
       "['sM00223_002.hdr', 'sM00223_002.img']"
      ]
     },
     "execution_count": 25,
     "metadata": {},
     "output_type": "execute_result"
    }
   ],
   "source": [
    "os.listdir(\"../MoAEpilot/sM00223\")"
   ]
  },
  {
   "cell_type": "code",
   "execution_count": 27,
   "metadata": {},
   "outputs": [
    {
     "data": {
      "text/plain": [
       "True"
      ]
     },
     "execution_count": 27,
     "metadata": {},
     "output_type": "execute_result"
    }
   ],
   "source": [
    "os.path.exists(\"../MoAEpilot/sM00223/sM00223_002.img\")"
   ]
  },
  {
   "cell_type": "markdown",
   "metadata": {},
   "source": [
    "# Load \n",
    "\n",
    "- load_image\n",
    " - return Image format\n",
    " \n",
    " How to get data?\n",
    "-  \"get_data()\" method"
   ]
  },
  {
   "cell_type": "code",
   "execution_count": 28,
   "metadata": {},
   "outputs": [],
   "source": [
    "img = load_image(\"../MoAEpilot/sM00223/sM00223_002.img\")"
   ]
  },
  {
   "cell_type": "code",
   "execution_count": 31,
   "metadata": {
    "collapsed": true
   },
   "outputs": [
    {
     "data": {
      "text/plain": [
       "Image(\n",
       "  data=array([[[[0.],\n",
       "                [0.],\n",
       "                ...,\n",
       "                [0.],\n",
       "                [0.]],\n",
       "       \n",
       "               [[0.],\n",
       "                [0.],\n",
       "                ...,\n",
       "                [0.],\n",
       "                [0.]],\n",
       "       \n",
       "               ...,\n",
       "       \n",
       "               [[0.],\n",
       "                [0.],\n",
       "                ...,\n",
       "                [0.],\n",
       "                [0.]],\n",
       "       \n",
       "               [[0.],\n",
       "                [0.],\n",
       "                ...,\n",
       "                [0.],\n",
       "                [0.]]],\n",
       "       \n",
       "       \n",
       "              [[[0.],\n",
       "                [0.],\n",
       "                ...,\n",
       "                [0.],\n",
       "                [0.]],\n",
       "       \n",
       "               [[0.],\n",
       "                [0.],\n",
       "                ...,\n",
       "                [0.],\n",
       "                [0.]],\n",
       "       \n",
       "               ...,\n",
       "       \n",
       "               [[0.],\n",
       "                [0.],\n",
       "                ...,\n",
       "                [0.],\n",
       "                [0.]],\n",
       "       \n",
       "               [[0.],\n",
       "                [0.],\n",
       "                ...,\n",
       "                [0.],\n",
       "                [0.]]],\n",
       "       \n",
       "       \n",
       "              ...,\n",
       "       \n",
       "       \n",
       "              [[[0.],\n",
       "                [0.],\n",
       "                ...,\n",
       "                [0.],\n",
       "                [0.]],\n",
       "       \n",
       "               [[0.],\n",
       "                [0.],\n",
       "                ...,\n",
       "                [0.],\n",
       "                [0.]],\n",
       "       \n",
       "               ...,\n",
       "       \n",
       "               [[0.],\n",
       "                [0.],\n",
       "                ...,\n",
       "                [0.],\n",
       "                [0.]],\n",
       "       \n",
       "               [[0.],\n",
       "                [0.],\n",
       "                ...,\n",
       "                [0.],\n",
       "                [0.]]],\n",
       "       \n",
       "       \n",
       "              [[[0.],\n",
       "                [0.],\n",
       "                ...,\n",
       "                [0.],\n",
       "                [0.]],\n",
       "       \n",
       "               [[0.],\n",
       "                [0.],\n",
       "                ...,\n",
       "                [0.],\n",
       "                [0.]],\n",
       "       \n",
       "               ...,\n",
       "       \n",
       "               [[0.],\n",
       "                [0.],\n",
       "                ...,\n",
       "                [0.],\n",
       "                [0.]],\n",
       "       \n",
       "               [[0.],\n",
       "                [0.],\n",
       "                ...,\n",
       "                [0.],\n",
       "                [0.]]]]),\n",
       "  coordmap=AffineTransform(\n",
       "            function_domain=CoordinateSystem(coord_names=('i', 'j', 'k', 't'), name='voxels', coord_dtype=float64),\n",
       "            function_range=CoordinateSystem(coord_names=('aligned-x=L->R', 'aligned-y=P->A', 'aligned-z=I->S', 't'), name='aligned', coord_dtype=float64),\n",
       "            affine=array([[  -1.,    0.,    0.,    0.,  127.],\n",
       "                          [   0.,    1.,    0.,    0., -167.],\n",
       "                          [   0.,    0.,    3.,    0.,  -72.],\n",
       "                          [   0.,    0.,    0.,    0.,    0.],\n",
       "                          [   0.,    0.,    0.,    0.,    1.]])\n",
       "         ))"
      ]
     },
     "execution_count": 31,
     "metadata": {},
     "output_type": "execute_result"
    }
   ],
   "source": [
    "img"
   ]
  },
  {
   "cell_type": "code",
   "execution_count": 32,
   "metadata": {},
   "outputs": [],
   "source": [
    "data = img.get_data()"
   ]
  },
  {
   "cell_type": "markdown",
   "metadata": {},
   "source": [
    "# Save\n"
   ]
  },
  {
   "cell_type": "markdown",
   "metadata": {},
   "source": [
    "## 読み込んだイメージを再利用"
   ]
  },
  {
   "cell_type": "code",
   "execution_count": 34,
   "metadata": {},
   "outputs": [],
   "source": [
    "new_img = Image(data, img.coordmap)"
   ]
  },
  {
   "cell_type": "code",
   "execution_count": 38,
   "metadata": {},
   "outputs": [
    {
     "data": {
      "text/plain": [
       "Image(\n",
       "  data=array([[[[0.],\n",
       "                [0.],\n",
       "                ...,\n",
       "                [0.],\n",
       "                [0.]],\n",
       "       \n",
       "               [[0.],\n",
       "                [0.],\n",
       "                ...,\n",
       "                [0.],\n",
       "                [0.]],\n",
       "       \n",
       "               ...,\n",
       "       \n",
       "               [[0.],\n",
       "                [0.],\n",
       "                ...,\n",
       "                [0.],\n",
       "                [0.]],\n",
       "       \n",
       "               [[0.],\n",
       "                [0.],\n",
       "                ...,\n",
       "                [0.],\n",
       "                [0.]]],\n",
       "       \n",
       "       \n",
       "              [[[0.],\n",
       "                [0.],\n",
       "                ...,\n",
       "                [0.],\n",
       "                [0.]],\n",
       "       \n",
       "               [[0.],\n",
       "                [0.],\n",
       "                ...,\n",
       "                [0.],\n",
       "                [0.]],\n",
       "       \n",
       "               ...,\n",
       "       \n",
       "               [[0.],\n",
       "                [0.],\n",
       "                ...,\n",
       "                [0.],\n",
       "                [0.]],\n",
       "       \n",
       "               [[0.],\n",
       "                [0.],\n",
       "                ...,\n",
       "                [0.],\n",
       "                [0.]]],\n",
       "       \n",
       "       \n",
       "              ...,\n",
       "       \n",
       "       \n",
       "              [[[0.],\n",
       "                [0.],\n",
       "                ...,\n",
       "                [0.],\n",
       "                [0.]],\n",
       "       \n",
       "               [[0.],\n",
       "                [0.],\n",
       "                ...,\n",
       "                [0.],\n",
       "                [0.]],\n",
       "       \n",
       "               ...,\n",
       "       \n",
       "               [[0.],\n",
       "                [0.],\n",
       "                ...,\n",
       "                [0.],\n",
       "                [0.]],\n",
       "       \n",
       "               [[0.],\n",
       "                [0.],\n",
       "                ...,\n",
       "                [0.],\n",
       "                [0.]]],\n",
       "       \n",
       "       \n",
       "              [[[0.],\n",
       "                [0.],\n",
       "                ...,\n",
       "                [0.],\n",
       "                [0.]],\n",
       "       \n",
       "               [[0.],\n",
       "                [0.],\n",
       "                ...,\n",
       "                [0.],\n",
       "                [0.]],\n",
       "       \n",
       "               ...,\n",
       "       \n",
       "               [[0.],\n",
       "                [0.],\n",
       "                ...,\n",
       "                [0.],\n",
       "                [0.]],\n",
       "       \n",
       "               [[0.],\n",
       "                [0.],\n",
       "                ...,\n",
       "                [0.],\n",
       "                [0.]]]]),\n",
       "  coordmap=AffineTransform(\n",
       "            function_domain=CoordinateSystem(coord_names=('i', 'j', 'k', 't'), name='voxels', coord_dtype=float64),\n",
       "            function_range=CoordinateSystem(coord_names=('aligned-x=L->R', 'aligned-y=P->A', 'aligned-z=I->S', 't'), name='aligned', coord_dtype=float64),\n",
       "            affine=array([[  -1.,    0.,    0.,    0.,  127.],\n",
       "                          [   0.,    1.,    0.,    0., -167.],\n",
       "                          [   0.,    0.,    3.,    0.,  -72.],\n",
       "                          [   0.,    0.,    0.,    0.,    0.],\n",
       "                          [   0.,    0.,    0.,    0.,    1.]])\n",
       "         ))"
      ]
     },
     "execution_count": 38,
     "metadata": {},
     "output_type": "execute_result"
    }
   ],
   "source": [
    "save_image(new_img, \"new_img_1.nii\")"
   ]
  },
  {
   "cell_type": "code",
   "execution_count": 40,
   "metadata": {},
   "outputs": [],
   "source": [
    "new_img = load_image(\"new_img_1.nii\")"
   ]
  },
  {
   "cell_type": "markdown",
   "metadata": {},
   "source": [
    "## 読み込んだイメージのcoordmapを修正する"
   ]
  },
  {
   "cell_type": "code",
   "execution_count": 42,
   "metadata": {},
   "outputs": [
    {
     "data": {
      "text/plain": [
       "AffineTransform(\n",
       "   function_domain=CoordinateSystem(coord_names=('i', 'j', 'k', 't'), name='voxels', coord_dtype=float64),\n",
       "   function_range=CoordinateSystem(coord_names=('aligned-x=L->R', 'aligned-y=P->A', 'aligned-z=I->S', 't'), name='aligned', coord_dtype=float64),\n",
       "   affine=array([[  -1.,    0.,    0.,    0.,  127.],\n",
       "                 [   0.,    1.,    0.,    0., -167.],\n",
       "                 [   0.,    0.,    3.,    0.,  -72.],\n",
       "                 [   0.,    0.,    0.,    0.,    0.],\n",
       "                 [   0.,    0.,    0.,    0.,    1.]])\n",
       ")"
      ]
     },
     "execution_count": 42,
     "metadata": {},
     "output_type": "execute_result"
    }
   ],
   "source": [
    "img.coordmap"
   ]
  },
  {
   "cell_type": "code",
   "execution_count": 49,
   "metadata": {},
   "outputs": [],
   "source": [
    "function_domain = CoordinateSystem(coord_names=('ijkt'))"
   ]
  },
  {
   "cell_type": "code",
   "execution_count": 56,
   "metadata": {},
   "outputs": [],
   "source": [
    "function_range = CoordinateSystem(coord_names=('xyzt'))"
   ]
  },
  {
   "cell_type": "code",
   "execution_count": 57,
   "metadata": {},
   "outputs": [],
   "source": [
    "affine = img.coordmap.affine"
   ]
  },
  {
   "cell_type": "code",
   "execution_count": 58,
   "metadata": {},
   "outputs": [
    {
     "data": {
      "text/plain": [
       "array([[  -1.,    0.,    0.,    0.,  127.],\n",
       "       [   0.,    1.,    0.,    0., -167.],\n",
       "       [   0.,    0.,    3.,    0.,  -72.],\n",
       "       [   0.,    0.,    0.,    0.,    0.],\n",
       "       [   0.,    0.,    0.,    0.,    1.]])"
      ]
     },
     "execution_count": 58,
     "metadata": {},
     "output_type": "execute_result"
    }
   ],
   "source": [
    "affine"
   ]
  },
  {
   "cell_type": "code",
   "execution_count": 59,
   "metadata": {},
   "outputs": [],
   "source": [
    "coordmap = AffineTransform(function_domain, function_range, affine)"
   ]
  },
  {
   "cell_type": "code",
   "execution_count": 61,
   "metadata": {},
   "outputs": [],
   "source": [
    "new_img = Image(data, coordmap)"
   ]
  },
  {
   "cell_type": "code",
   "execution_count": 63,
   "metadata": {
    "scrolled": true
   },
   "outputs": [
    {
     "data": {
      "text/plain": [
       "Image(\n",
       "  data=array([[[[0.],\n",
       "                [0.],\n",
       "                ...,\n",
       "                [0.],\n",
       "                [0.]],\n",
       "       \n",
       "               [[0.],\n",
       "                [0.],\n",
       "                ...,\n",
       "                [0.],\n",
       "                [0.]],\n",
       "       \n",
       "               ...,\n",
       "       \n",
       "               [[0.],\n",
       "                [0.],\n",
       "                ...,\n",
       "                [0.],\n",
       "                [0.]],\n",
       "       \n",
       "               [[0.],\n",
       "                [0.],\n",
       "                ...,\n",
       "                [0.],\n",
       "                [0.]]],\n",
       "       \n",
       "       \n",
       "              [[[0.],\n",
       "                [0.],\n",
       "                ...,\n",
       "                [0.],\n",
       "                [0.]],\n",
       "       \n",
       "               [[0.],\n",
       "                [0.],\n",
       "                ...,\n",
       "                [0.],\n",
       "                [0.]],\n",
       "       \n",
       "               ...,\n",
       "       \n",
       "               [[0.],\n",
       "                [0.],\n",
       "                ...,\n",
       "                [0.],\n",
       "                [0.]],\n",
       "       \n",
       "               [[0.],\n",
       "                [0.],\n",
       "                ...,\n",
       "                [0.],\n",
       "                [0.]]],\n",
       "       \n",
       "       \n",
       "              ...,\n",
       "       \n",
       "       \n",
       "              [[[0.],\n",
       "                [0.],\n",
       "                ...,\n",
       "                [0.],\n",
       "                [0.]],\n",
       "       \n",
       "               [[0.],\n",
       "                [0.],\n",
       "                ...,\n",
       "                [0.],\n",
       "                [0.]],\n",
       "       \n",
       "               ...,\n",
       "       \n",
       "               [[0.],\n",
       "                [0.],\n",
       "                ...,\n",
       "                [0.],\n",
       "                [0.]],\n",
       "       \n",
       "               [[0.],\n",
       "                [0.],\n",
       "                ...,\n",
       "                [0.],\n",
       "                [0.]]],\n",
       "       \n",
       "       \n",
       "              [[[0.],\n",
       "                [0.],\n",
       "                ...,\n",
       "                [0.],\n",
       "                [0.]],\n",
       "       \n",
       "               [[0.],\n",
       "                [0.],\n",
       "                ...,\n",
       "                [0.],\n",
       "                [0.]],\n",
       "       \n",
       "               ...,\n",
       "       \n",
       "               [[0.],\n",
       "                [0.],\n",
       "                ...,\n",
       "                [0.],\n",
       "                [0.]],\n",
       "       \n",
       "               [[0.],\n",
       "                [0.],\n",
       "                ...,\n",
       "                [0.],\n",
       "                [0.]]]]),\n",
       "  coordmap=AffineTransform(\n",
       "            function_domain=CoordinateSystem(coord_names=('i', 'j', 'k', 't'), name='', coord_dtype=float64),\n",
       "            function_range=CoordinateSystem(coord_names=('x', 'y', 'z', 't'), name='', coord_dtype=float64),\n",
       "            affine=array([[  -1.,    0.,    0.,    0.,  127.],\n",
       "                          [   0.,    1.,    0.,    0., -167.],\n",
       "                          [   0.,    0.,    3.,    0.,  -72.],\n",
       "                          [   0.,    0.,    0.,    0.,    0.],\n",
       "                          [   0.,    0.,    0.,    0.,    1.]])\n",
       "         ))"
      ]
     },
     "execution_count": 63,
     "metadata": {},
     "output_type": "execute_result"
    }
   ],
   "source": [
    "save_image(new_img, \"new_img_2.nii\")"
   ]
  },
  {
   "cell_type": "code",
   "execution_count": 64,
   "metadata": {},
   "outputs": [
    {
     "data": {
      "text/plain": [
       "Image(\n",
       "  data=memmap([[[[0.],\n",
       "                 [0.],\n",
       "                 ...,\n",
       "                 [0.],\n",
       "                 [0.]],\n",
       "       \n",
       "                [[0.],\n",
       "                 [0.],\n",
       "                 ...,\n",
       "                 [0.],\n",
       "                 [0.]],\n",
       "       \n",
       "                ...,\n",
       "       \n",
       "                [[0.],\n",
       "                 [0.],\n",
       "                 ...,\n",
       "                 [0.],\n",
       "                 [0.]],\n",
       "       \n",
       "                [[0.],\n",
       "                 [0.],\n",
       "                 ...,\n",
       "                 [0.],\n",
       "                 [0.]]],\n",
       "       \n",
       "       \n",
       "               [[[0.],\n",
       "                 [0.],\n",
       "                 ...,\n",
       "                 [0.],\n",
       "                 [0.]],\n",
       "       \n",
       "                [[0.],\n",
       "                 [0.],\n",
       "                 ...,\n",
       "                 [0.],\n",
       "                 [0.]],\n",
       "       \n",
       "                ...,\n",
       "       \n",
       "                [[0.],\n",
       "                 [0.],\n",
       "                 ...,\n",
       "                 [0.],\n",
       "                 [0.]],\n",
       "       \n",
       "                [[0.],\n",
       "                 [0.],\n",
       "                 ...,\n",
       "                 [0.],\n",
       "                 [0.]]],\n",
       "       \n",
       "       \n",
       "               ...,\n",
       "       \n",
       "       \n",
       "               [[[0.],\n",
       "                 [0.],\n",
       "                 ...,\n",
       "                 [0.],\n",
       "                 [0.]],\n",
       "       \n",
       "                [[0.],\n",
       "                 [0.],\n",
       "                 ...,\n",
       "                 [0.],\n",
       "                 [0.]],\n",
       "       \n",
       "                ...,\n",
       "       \n",
       "                [[0.],\n",
       "                 [0.],\n",
       "                 ...,\n",
       "                 [0.],\n",
       "                 [0.]],\n",
       "       \n",
       "                [[0.],\n",
       "                 [0.],\n",
       "                 ...,\n",
       "                 [0.],\n",
       "                 [0.]]],\n",
       "       \n",
       "       \n",
       "               [[[0.],\n",
       "                 [0.],\n",
       "                 ...,\n",
       "                 [0.],\n",
       "                 [0.]],\n",
       "       \n",
       "                [[0.],\n",
       "                 [0.],\n",
       "                 ...,\n",
       "                 [0.],\n",
       "                 [0.]],\n",
       "       \n",
       "                ...,\n",
       "       \n",
       "                [[0.],\n",
       "                 [0.],\n",
       "                 ...,\n",
       "                 [0.],\n",
       "                 [0.]],\n",
       "       \n",
       "                [[0.],\n",
       "                 [0.],\n",
       "                 ...,\n",
       "                 [0.],\n",
       "                 [0.]]]]),\n",
       "  coordmap=AffineTransform(\n",
       "            function_domain=CoordinateSystem(coord_names=('i', 'j', 'k', 't'), name='voxels', coord_dtype=float64),\n",
       "            function_range=CoordinateSystem(coord_names=('scanner-x=L->R', 'scanner-y=P->A', 'scanner-z=I->S', 't'), name='scanner', coord_dtype=float64),\n",
       "            affine=array([[  -1.,    0.,    0.,    0.,  127.],\n",
       "                          [   0.,    1.,    0.,    0., -167.],\n",
       "                          [   0.,    0.,    3.,    0.,  -72.],\n",
       "                          [   0.,    0.,    0.,    0.,    0.],\n",
       "                          [   0.,    0.,    0.,    0.,    1.]])\n",
       "         ))"
      ]
     },
     "execution_count": 64,
     "metadata": {},
     "output_type": "execute_result"
    }
   ],
   "source": [
    "load_image(\"new_img_2.nii\")"
   ]
  },
  {
   "cell_type": "code",
   "execution_count": 69,
   "metadata": {},
   "outputs": [
    {
     "data": {
      "text/plain": [
       "<Figure size 432x288 with 0 Axes>"
      ]
     },
     "metadata": {},
     "output_type": "display_data"
    },
    {
     "data": {
      "application/vnd.jupyter.widget-view+json": {
       "model_id": "d01ca63f84cd4329bec8d68461303f57",
       "version_major": 2,
       "version_minor": 0
      },
      "text/plain": [
       "interactive(children=(IntSlider(value=45, continuous_update=False, description='x', max=90), IntSlider(value=5…"
      ]
     },
     "metadata": {},
     "output_type": "display_data"
    }
   ],
   "source": [
    "from niwidgets import NiftiWidget\n",
    "from niwidgets import examplet1\n",
    " \n",
    "test_widget = NiftiWidget(examplet1)\n",
    "test_widget.nifti_plotter()"
   ]
  },
  {
   "cell_type": "code",
   "execution_count": 70,
   "metadata": {},
   "outputs": [
    {
     "data": {
      "text/plain": [
       "'/Users/betashort/opt/anaconda3/envs/default/lib/python3.7/site-packages/niwidgets/data/T1.nii.gz'"
      ]
     },
     "execution_count": 70,
     "metadata": {},
     "output_type": "execute_result"
    }
   ],
   "source": [
    "examplet1"
   ]
  },
  {
   "cell_type": "code",
   "execution_count": null,
   "metadata": {},
   "outputs": [],
   "source": [
    "import nilearn.plotting as nip\n",
    " \n",
    "test_widget.nifti_plotter(plotting_func=, display_mode=['ortho', 'x', 'y', 'z', 'yx', 'xz', 'yz'])\n"
   ]
  },
  {
   "cell_type": "code",
   "execution_count": 65,
   "metadata": {},
   "outputs": [
    {
     "ename": "NameError",
     "evalue": "name 'nip' is not defined",
     "output_type": "error",
     "traceback": [
      "\u001b[0;31m---------------------------------------------------------------------------\u001b[0m",
      "\u001b[0;31mNameError\u001b[0m                                 Traceback (most recent call last)",
      "\u001b[0;32m<ipython-input-65-8f028d8649f3>\u001b[0m in \u001b[0;36m<module>\u001b[0;34m\u001b[0m\n\u001b[0;32m----> 1\u001b[0;31m \u001b[0mnip\u001b[0m\u001b[0;34m.\u001b[0m\u001b[0mplot_epi\u001b[0m\u001b[0;34m\u001b[0m\u001b[0;34m\u001b[0m\u001b[0m\n\u001b[0m",
      "\u001b[0;31mNameError\u001b[0m: name 'nip' is not defined"
     ]
    }
   ],
   "source": [
    "nip.plot_epi"
   ]
  },
  {
   "cell_type": "code",
   "execution_count": null,
   "metadata": {},
   "outputs": [],
   "source": []
  }
 ],
 "metadata": {
  "kernelspec": {
   "display_name": "Python 3",
   "language": "python",
   "name": "python3"
  },
  "language_info": {
   "codemirror_mode": {
    "name": "ipython",
    "version": 3
   },
   "file_extension": ".py",
   "mimetype": "text/x-python",
   "name": "python",
   "nbconvert_exporter": "python",
   "pygments_lexer": "ipython3",
   "version": "3.7.5"
  }
 },
 "nbformat": 4,
 "nbformat_minor": 2
}
