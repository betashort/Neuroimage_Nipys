{
 "cells": [
  {
   "cell_type": "code",
   "execution_count": 2,
   "metadata": {},
   "outputs": [],
   "source": [
    "from nipy import load_image, save_image\n",
    "from nipy.core.api import Image\n",
    "\n",
    "from nipy.core.reference.coordinate_map import AffineTransform, CoordinateSystem"
   ]
  },
  {
   "cell_type": "code",
   "execution_count": 16,
   "metadata": {},
   "outputs": [],
   "source": [
    "import os\n",
    "import numpy as np"
   ]
  },
  {
   "cell_type": "code",
   "execution_count": 4,
   "metadata": {},
   "outputs": [
    {
     "data": {
      "text/plain": [
       "['sM00223_002.hdr', 'sM00223_002.img']"
      ]
     },
     "execution_count": 4,
     "metadata": {},
     "output_type": "execute_result"
    }
   ],
   "source": [
    "os.listdir(\"../MoAEpilot/sM00223\")"
   ]
  },
  {
   "cell_type": "code",
   "execution_count": 5,
   "metadata": {},
   "outputs": [
    {
     "data": {
      "text/plain": [
       "True"
      ]
     },
     "execution_count": 5,
     "metadata": {},
     "output_type": "execute_result"
    }
   ],
   "source": [
    "os.path.exists(\"../MoAEpilot/sM00223/sM00223_002.img\")"
   ]
  },
  {
   "cell_type": "markdown",
   "metadata": {},
   "source": [
    "# Load \n",
    "\n",
    "- load_image\n",
    " - return Image format\n",
    " \n",
    " How to get data?\n",
    "-  \"get_data()\" method"
   ]
  },
  {
   "cell_type": "code",
   "execution_count": 6,
   "metadata": {},
   "outputs": [],
   "source": [
    "img = load_image(\"../MoAEpilot/sM00223/sM00223_002.img\")"
   ]
  },
  {
   "cell_type": "code",
   "execution_count": 7,
   "metadata": {},
   "outputs": [
    {
     "data": {
      "text/plain": [
       "Image(\n",
       "  data=array([[[[0.],\n",
       "                [0.],\n",
       "                ...,\n",
       "                [0.],\n",
       "                [0.]],\n",
       "       \n",
       "               [[0.],\n",
       "                [0.],\n",
       "                ...,\n",
       "                [0.],\n",
       "                [0.]],\n",
       "       \n",
       "               ...,\n",
       "       \n",
       "               [[0.],\n",
       "                [0.],\n",
       "                ...,\n",
       "                [0.],\n",
       "                [0.]],\n",
       "       \n",
       "               [[0.],\n",
       "                [0.],\n",
       "                ...,\n",
       "                [0.],\n",
       "                [0.]]],\n",
       "       \n",
       "       \n",
       "              [[[0.],\n",
       "                [0.],\n",
       "                ...,\n",
       "                [0.],\n",
       "                [0.]],\n",
       "       \n",
       "               [[0.],\n",
       "                [0.],\n",
       "                ...,\n",
       "                [0.],\n",
       "                [0.]],\n",
       "       \n",
       "               ...,\n",
       "       \n",
       "               [[0.],\n",
       "                [0.],\n",
       "                ...,\n",
       "                [0.],\n",
       "                [0.]],\n",
       "       \n",
       "               [[0.],\n",
       "                [0.],\n",
       "                ...,\n",
       "                [0.],\n",
       "                [0.]]],\n",
       "       \n",
       "       \n",
       "              ...,\n",
       "       \n",
       "       \n",
       "              [[[0.],\n",
       "                [0.],\n",
       "                ...,\n",
       "                [0.],\n",
       "                [0.]],\n",
       "       \n",
       "               [[0.],\n",
       "                [0.],\n",
       "                ...,\n",
       "                [0.],\n",
       "                [0.]],\n",
       "       \n",
       "               ...,\n",
       "       \n",
       "               [[0.],\n",
       "                [0.],\n",
       "                ...,\n",
       "                [0.],\n",
       "                [0.]],\n",
       "       \n",
       "               [[0.],\n",
       "                [0.],\n",
       "                ...,\n",
       "                [0.],\n",
       "                [0.]]],\n",
       "       \n",
       "       \n",
       "              [[[0.],\n",
       "                [0.],\n",
       "                ...,\n",
       "                [0.],\n",
       "                [0.]],\n",
       "       \n",
       "               [[0.],\n",
       "                [0.],\n",
       "                ...,\n",
       "                [0.],\n",
       "                [0.]],\n",
       "       \n",
       "               ...,\n",
       "       \n",
       "               [[0.],\n",
       "                [0.],\n",
       "                ...,\n",
       "                [0.],\n",
       "                [0.]],\n",
       "       \n",
       "               [[0.],\n",
       "                [0.],\n",
       "                ...,\n",
       "                [0.],\n",
       "                [0.]]]]),\n",
       "  coordmap=AffineTransform(\n",
       "            function_domain=CoordinateSystem(coord_names=('i', 'j', 'k', 't'), name='voxels', coord_dtype=float64),\n",
       "            function_range=CoordinateSystem(coord_names=('aligned-x=L->R', 'aligned-y=P->A', 'aligned-z=I->S', 't'), name='aligned', coord_dtype=float64),\n",
       "            affine=array([[  -1.,    0.,    0.,    0.,  127.],\n",
       "                          [   0.,    1.,    0.,    0., -167.],\n",
       "                          [   0.,    0.,    3.,    0.,  -72.],\n",
       "                          [   0.,    0.,    0.,    0.,    0.],\n",
       "                          [   0.,    0.,    0.,    0.,    1.]])\n",
       "         ))"
      ]
     },
     "execution_count": 7,
     "metadata": {},
     "output_type": "execute_result"
    }
   ],
   "source": [
    "img"
   ]
  },
  {
   "cell_type": "code",
   "execution_count": 8,
   "metadata": {},
   "outputs": [],
   "source": [
    "data = img.get_data()"
   ]
  },
  {
   "cell_type": "markdown",
   "metadata": {},
   "source": [
    "# Save\n"
   ]
  },
  {
   "cell_type": "markdown",
   "metadata": {},
   "source": [
    "## 読み込んだイメージを再利用"
   ]
  },
  {
   "cell_type": "code",
   "execution_count": 9,
   "metadata": {},
   "outputs": [],
   "source": [
    "new_img = Image(data, img.coordmap)"
   ]
  },
  {
   "cell_type": "code",
   "execution_count": 10,
   "metadata": {},
   "outputs": [
    {
     "name": "stderr",
     "output_type": "stream",
     "text": [
      "/Users/betashort/opt/anaconda3/envs/default/lib/python3.7/site-packages/nipy/io/files.py:145: FutureWarning: Default `strict` currently False; this will change to True in a future version of nipy\n",
      "  ni_img = nipy2nifti(img, data_dtype = io_dtype)\n"
     ]
    },
    {
     "data": {
      "text/plain": [
       "Image(\n",
       "  data=array([[[[0.],\n",
       "                [0.],\n",
       "                ...,\n",
       "                [0.],\n",
       "                [0.]],\n",
       "       \n",
       "               [[0.],\n",
       "                [0.],\n",
       "                ...,\n",
       "                [0.],\n",
       "                [0.]],\n",
       "       \n",
       "               ...,\n",
       "       \n",
       "               [[0.],\n",
       "                [0.],\n",
       "                ...,\n",
       "                [0.],\n",
       "                [0.]],\n",
       "       \n",
       "               [[0.],\n",
       "                [0.],\n",
       "                ...,\n",
       "                [0.],\n",
       "                [0.]]],\n",
       "       \n",
       "       \n",
       "              [[[0.],\n",
       "                [0.],\n",
       "                ...,\n",
       "                [0.],\n",
       "                [0.]],\n",
       "       \n",
       "               [[0.],\n",
       "                [0.],\n",
       "                ...,\n",
       "                [0.],\n",
       "                [0.]],\n",
       "       \n",
       "               ...,\n",
       "       \n",
       "               [[0.],\n",
       "                [0.],\n",
       "                ...,\n",
       "                [0.],\n",
       "                [0.]],\n",
       "       \n",
       "               [[0.],\n",
       "                [0.],\n",
       "                ...,\n",
       "                [0.],\n",
       "                [0.]]],\n",
       "       \n",
       "       \n",
       "              ...,\n",
       "       \n",
       "       \n",
       "              [[[0.],\n",
       "                [0.],\n",
       "                ...,\n",
       "                [0.],\n",
       "                [0.]],\n",
       "       \n",
       "               [[0.],\n",
       "                [0.],\n",
       "                ...,\n",
       "                [0.],\n",
       "                [0.]],\n",
       "       \n",
       "               ...,\n",
       "       \n",
       "               [[0.],\n",
       "                [0.],\n",
       "                ...,\n",
       "                [0.],\n",
       "                [0.]],\n",
       "       \n",
       "               [[0.],\n",
       "                [0.],\n",
       "                ...,\n",
       "                [0.],\n",
       "                [0.]]],\n",
       "       \n",
       "       \n",
       "              [[[0.],\n",
       "                [0.],\n",
       "                ...,\n",
       "                [0.],\n",
       "                [0.]],\n",
       "       \n",
       "               [[0.],\n",
       "                [0.],\n",
       "                ...,\n",
       "                [0.],\n",
       "                [0.]],\n",
       "       \n",
       "               ...,\n",
       "       \n",
       "               [[0.],\n",
       "                [0.],\n",
       "                ...,\n",
       "                [0.],\n",
       "                [0.]],\n",
       "       \n",
       "               [[0.],\n",
       "                [0.],\n",
       "                ...,\n",
       "                [0.],\n",
       "                [0.]]]]),\n",
       "  coordmap=AffineTransform(\n",
       "            function_domain=CoordinateSystem(coord_names=('i', 'j', 'k', 't'), name='voxels', coord_dtype=float64),\n",
       "            function_range=CoordinateSystem(coord_names=('aligned-x=L->R', 'aligned-y=P->A', 'aligned-z=I->S', 't'), name='aligned', coord_dtype=float64),\n",
       "            affine=array([[  -1.,    0.,    0.,    0.,  127.],\n",
       "                          [   0.,    1.,    0.,    0., -167.],\n",
       "                          [   0.,    0.,    3.,    0.,  -72.],\n",
       "                          [   0.,    0.,    0.,    0.,    0.],\n",
       "                          [   0.,    0.,    0.,    0.,    1.]])\n",
       "         ))"
      ]
     },
     "execution_count": 10,
     "metadata": {},
     "output_type": "execute_result"
    }
   ],
   "source": [
    "save_image(new_img, \"new_img_1.nii\")"
   ]
  },
  {
   "cell_type": "code",
   "execution_count": 11,
   "metadata": {},
   "outputs": [],
   "source": [
    "new_img = load_image(\"new_img_1.nii\")"
   ]
  },
  {
   "cell_type": "markdown",
   "metadata": {},
   "source": [
    "## 読み込んだイメージのcoordmapを修正する"
   ]
  },
  {
   "cell_type": "code",
   "execution_count": 12,
   "metadata": {},
   "outputs": [
    {
     "data": {
      "text/plain": [
       "AffineTransform(\n",
       "   function_domain=CoordinateSystem(coord_names=('i', 'j', 'k', 't'), name='voxels', coord_dtype=float64),\n",
       "   function_range=CoordinateSystem(coord_names=('aligned-x=L->R', 'aligned-y=P->A', 'aligned-z=I->S', 't'), name='aligned', coord_dtype=float64),\n",
       "   affine=array([[  -1.,    0.,    0.,    0.,  127.],\n",
       "                 [   0.,    1.,    0.,    0., -167.],\n",
       "                 [   0.,    0.,    3.,    0.,  -72.],\n",
       "                 [   0.,    0.,    0.,    0.,    0.],\n",
       "                 [   0.,    0.,    0.,    0.,    1.]])\n",
       ")"
      ]
     },
     "execution_count": 12,
     "metadata": {},
     "output_type": "execute_result"
    }
   ],
   "source": [
    "img.coordmap"
   ]
  },
  {
   "cell_type": "code",
   "execution_count": 13,
   "metadata": {},
   "outputs": [],
   "source": [
    "function_domain = CoordinateSystem(coord_names=('ijkt'))"
   ]
  },
  {
   "cell_type": "code",
   "execution_count": 14,
   "metadata": {},
   "outputs": [],
   "source": [
    "function_range = CoordinateSystem(coord_names=('xyzt'))"
   ]
  },
  {
   "cell_type": "code",
   "execution_count": 17,
   "metadata": {},
   "outputs": [],
   "source": [
    "affine = np.array([[  -1.,    0.,    0.,    0.,  127.],\n",
    "                   [   0.,    1.,    0.,    0., -167.],\n",
    "                   [   0.,    0.,    3.,    0.,  -72.],\n",
    "                   [   0.,    0.,    0.,    0.,    0.],\n",
    "                   [   0.,    0.,    0.,    0.,    1.]])"
   ]
  },
  {
   "cell_type": "code",
   "execution_count": 18,
   "metadata": {
    "scrolled": true
   },
   "outputs": [
    {
     "data": {
      "text/plain": [
       "array([[  -1.,    0.,    0.,    0.,  127.],\n",
       "       [   0.,    1.,    0.,    0., -167.],\n",
       "       [   0.,    0.,    3.,    0.,  -72.],\n",
       "       [   0.,    0.,    0.,    0.,    0.],\n",
       "       [   0.,    0.,    0.,    0.,    1.]])"
      ]
     },
     "execution_count": 18,
     "metadata": {},
     "output_type": "execute_result"
    }
   ],
   "source": [
    "affine"
   ]
  },
  {
   "cell_type": "code",
   "execution_count": 19,
   "metadata": {},
   "outputs": [],
   "source": [
    "coordmap = AffineTransform(function_domain, function_range, affine)"
   ]
  },
  {
   "cell_type": "code",
   "execution_count": 20,
   "metadata": {},
   "outputs": [],
   "source": [
    "new_img = Image(data, coordmap)"
   ]
  },
  {
   "cell_type": "code",
   "execution_count": 21,
   "metadata": {
    "scrolled": true
   },
   "outputs": [
    {
     "name": "stderr",
     "output_type": "stream",
     "text": [
      "/Users/betashort/opt/anaconda3/envs/default/lib/python3.7/site-packages/nipy/io/files.py:145: FutureWarning: Default `strict` currently False; this will change to True in a future version of nipy; output names of \"x\", \"y\", \"z\" will raise an error.  Please use canonical output names from nipy.core.reference.spaces\n",
      "  ni_img = nipy2nifti(img, data_dtype = io_dtype)\n"
     ]
    },
    {
     "data": {
      "text/plain": [
       "Image(\n",
       "  data=array([[[[0.],\n",
       "                [0.],\n",
       "                ...,\n",
       "                [0.],\n",
       "                [0.]],\n",
       "       \n",
       "               [[0.],\n",
       "                [0.],\n",
       "                ...,\n",
       "                [0.],\n",
       "                [0.]],\n",
       "       \n",
       "               ...,\n",
       "       \n",
       "               [[0.],\n",
       "                [0.],\n",
       "                ...,\n",
       "                [0.],\n",
       "                [0.]],\n",
       "       \n",
       "               [[0.],\n",
       "                [0.],\n",
       "                ...,\n",
       "                [0.],\n",
       "                [0.]]],\n",
       "       \n",
       "       \n",
       "              [[[0.],\n",
       "                [0.],\n",
       "                ...,\n",
       "                [0.],\n",
       "                [0.]],\n",
       "       \n",
       "               [[0.],\n",
       "                [0.],\n",
       "                ...,\n",
       "                [0.],\n",
       "                [0.]],\n",
       "       \n",
       "               ...,\n",
       "       \n",
       "               [[0.],\n",
       "                [0.],\n",
       "                ...,\n",
       "                [0.],\n",
       "                [0.]],\n",
       "       \n",
       "               [[0.],\n",
       "                [0.],\n",
       "                ...,\n",
       "                [0.],\n",
       "                [0.]]],\n",
       "       \n",
       "       \n",
       "              ...,\n",
       "       \n",
       "       \n",
       "              [[[0.],\n",
       "                [0.],\n",
       "                ...,\n",
       "                [0.],\n",
       "                [0.]],\n",
       "       \n",
       "               [[0.],\n",
       "                [0.],\n",
       "                ...,\n",
       "                [0.],\n",
       "                [0.]],\n",
       "       \n",
       "               ...,\n",
       "       \n",
       "               [[0.],\n",
       "                [0.],\n",
       "                ...,\n",
       "                [0.],\n",
       "                [0.]],\n",
       "       \n",
       "               [[0.],\n",
       "                [0.],\n",
       "                ...,\n",
       "                [0.],\n",
       "                [0.]]],\n",
       "       \n",
       "       \n",
       "              [[[0.],\n",
       "                [0.],\n",
       "                ...,\n",
       "                [0.],\n",
       "                [0.]],\n",
       "       \n",
       "               [[0.],\n",
       "                [0.],\n",
       "                ...,\n",
       "                [0.],\n",
       "                [0.]],\n",
       "       \n",
       "               ...,\n",
       "       \n",
       "               [[0.],\n",
       "                [0.],\n",
       "                ...,\n",
       "                [0.],\n",
       "                [0.]],\n",
       "       \n",
       "               [[0.],\n",
       "                [0.],\n",
       "                ...,\n",
       "                [0.],\n",
       "                [0.]]]]),\n",
       "  coordmap=AffineTransform(\n",
       "            function_domain=CoordinateSystem(coord_names=('i', 'j', 'k', 't'), name='', coord_dtype=float64),\n",
       "            function_range=CoordinateSystem(coord_names=('x', 'y', 'z', 't'), name='', coord_dtype=float64),\n",
       "            affine=array([[  -1.,    0.,    0.,    0.,  127.],\n",
       "                          [   0.,    1.,    0.,    0., -167.],\n",
       "                          [   0.,    0.,    3.,    0.,  -72.],\n",
       "                          [   0.,    0.,    0.,    0.,    0.],\n",
       "                          [   0.,    0.,    0.,    0.,    1.]])\n",
       "         ))"
      ]
     },
     "execution_count": 21,
     "metadata": {},
     "output_type": "execute_result"
    }
   ],
   "source": [
    "save_image(new_img, \"new_img_2.nii\")"
   ]
  },
  {
   "cell_type": "code",
   "execution_count": 23,
   "metadata": {},
   "outputs": [],
   "source": [
    "a = load_image(\"new_img_2.nii\")"
   ]
  },
  {
   "cell_type": "code",
   "execution_count": 26,
   "metadata": {},
   "outputs": [
    {
     "data": {
      "text/plain": [
       "<Figure size 432x288 with 0 Axes>"
      ]
     },
     "metadata": {},
     "output_type": "display_data"
    },
    {
     "data": {
      "application/vnd.jupyter.widget-view+json": {
       "model_id": "611c4af4dbae4e138e15251ebdefc14e",
       "version_major": 2,
       "version_minor": 0
      },
      "text/plain": [
       "interactive(children=(IntSlider(value=45, continuous_update=False, description='x', max=90), IntSlider(value=5…"
      ]
     },
     "metadata": {},
     "output_type": "display_data"
    }
   ],
   "source": [
    "from niwidgets import NiftiWidget\n",
    "from niwidgets import examplet1\n",
    " \n",
    "test_widget = NiftiWidget(examplet1)\n",
    "test_widget.nifti_plotter()"
   ]
  },
  {
   "cell_type": "code",
   "execution_count": null,
   "metadata": {},
   "outputs": [],
   "source": []
  }
 ],
 "metadata": {
  "kernelspec": {
   "display_name": "Python 3",
   "language": "python",
   "name": "python3"
  },
  "language_info": {
   "codemirror_mode": {
    "name": "ipython",
    "version": 3
   },
   "file_extension": ".py",
   "mimetype": "text/x-python",
   "name": "python",
   "nbconvert_exporter": "python",
   "pygments_lexer": "ipython3",
   "version": "3.7.5"
  }
 },
 "nbformat": 4,
 "nbformat_minor": 2
}
