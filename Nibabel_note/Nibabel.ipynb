{
 "cells": [
  {
   "cell_type": "markdown",
   "metadata": {},
   "source": [
    "# My Study Notebook about Nibabel\n",
    "Nibabel is python library for using NIfTI file I/O\n",
    "\n",
    "## 1. reference\n",
    "1. https://nipy.org/nibabel/index.html\n",
    "2. https://nipy.org/nibabel/reference/nibabel.nifti1.html#nibabel.nifti1.Nifti1Pair.get_qform\n",
    "3. https://nipy.org/nibabel/nifti_images.html\n",
    "\n",
    "## 2. Preparation\n",
    "you need 'Nibabel' Library\n",
    "\n",
    "If you have macOS, command 'pip install nibabel' on anaconda environment."
   ]
  },
  {
   "cell_type": "code",
   "execution_count": 1,
   "metadata": {},
   "outputs": [],
   "source": [
    "import os\n",
    "import nibabel as nib\n",
    "from nibabel.testing import data_path"
   ]
  },
  {
   "cell_type": "markdown",
   "metadata": {},
   "source": [
    "# Lording NIfTI file \n",
    "\n",
    "1. use nibabel.load"
   ]
  },
  {
   "cell_type": "code",
   "execution_count": 2,
   "metadata": {},
   "outputs": [],
   "source": [
    "example_ni1 = os.path.join(data_path, 'example4d.nii.gz')\n",
    "n1_img = nib.load(example_ni1)"
   ]
  },
  {
   "cell_type": "code",
   "execution_count": 3,
   "metadata": {},
   "outputs": [],
   "source": [
    "example_ni2 = os.path.join(data_path, 'example_nifti2.nii.gz')\n",
    "n2_img = nib.load(example_ni2)"
   ]
  },
  {
   "cell_type": "markdown",
   "metadata": {},
   "source": [
    "## preview Header infomation\n",
    "\n",
    "1. nibabel.load image obeject\n",
    "2. use method header"
   ]
  },
  {
   "cell_type": "code",
   "execution_count": 4,
   "metadata": {},
   "outputs": [
    {
     "name": "stdout",
     "output_type": "stream",
     "text": [
      "<class 'nibabel.nifti1.Nifti1Header'> object, endian='<'\n",
      "sizeof_hdr      : 348\n",
      "data_type       : b''\n",
      "db_name         : b''\n",
      "extents         : 0\n",
      "session_error   : 0\n",
      "regular         : b'r'\n",
      "dim_info        : 57\n",
      "dim             : [  4 128  96  24   2   1   1   1]\n",
      "intent_p1       : 0.0\n",
      "intent_p2       : 0.0\n",
      "intent_p3       : 0.0\n",
      "intent_code     : none\n",
      "datatype        : int16\n",
      "bitpix          : 16\n",
      "slice_start     : 0\n",
      "pixdim          : [-1.000000e+00  2.000000e+00  2.000000e+00  2.199999e+00  2.000000e+03\n",
      "  1.000000e+00  1.000000e+00  1.000000e+00]\n",
      "vox_offset      : 0.0\n",
      "scl_slope       : nan\n",
      "scl_inter       : nan\n",
      "slice_end       : 23\n",
      "slice_code      : unknown\n",
      "xyzt_units      : 10\n",
      "cal_max         : 1162.0\n",
      "cal_min         : 0.0\n",
      "slice_duration  : 0.0\n",
      "toffset         : 0.0\n",
      "glmax           : 0\n",
      "glmin           : 0\n",
      "descrip         : b'FSL3.3\\x00 v2.25 NIfTI-1 Single file format'\n",
      "aux_file        : b''\n",
      "qform_code      : scanner\n",
      "sform_code      : scanner\n",
      "quatern_b       : -1.9451068e-26\n",
      "quatern_c       : -0.9967085\n",
      "quatern_d       : -0.08106874\n",
      "qoffset_x       : 117.8551\n",
      "qoffset_y       : -35.722942\n",
      "qoffset_z       : -7.2487984\n",
      "srow_x          : [-2.0000000e+00  6.7147157e-19  9.0810245e-18  1.1785510e+02]\n",
      "srow_y          : [-6.7147157e-19  1.9737115e+00 -3.5552824e-01 -3.5722942e+01]\n",
      "srow_z          : [ 8.2554809e-18  3.2320762e-01  2.1710818e+00 -7.2487984e+00]\n",
      "intent_name     : b''\n",
      "magic           : b'n+1'\n"
     ]
    }
   ],
   "source": [
    "n1_header = n1_img.header\n",
    "print(n1_header)"
   ]
  },
  {
   "cell_type": "code",
   "execution_count": 5,
   "metadata": {},
   "outputs": [
    {
     "name": "stdout",
     "output_type": "stream",
     "text": [
      "<class 'nibabel.nifti2.Nifti2Header'> object, endian='<'\n",
      "sizeof_hdr      : 540\n",
      "magic           : b'n+2'\n",
      "eol_check       : [13 10 26 10]\n",
      "datatype        : int16\n",
      "bitpix          : 16\n",
      "dim             : [ 4 32 20 12  2  1  1  1]\n",
      "intent_p1       : 0.0\n",
      "intent_p2       : 0.0\n",
      "intent_p3       : 0.0\n",
      "pixdim          : [-1.00000000e+00  2.00000000e+00  2.00000000e+00  2.19999909e+00\n",
      "  2.00000000e+03  1.00000000e+00  1.00000000e+00  1.00000000e+00]\n",
      "vox_offset      : 0\n",
      "scl_slope       : nan\n",
      "scl_inter       : nan\n",
      "cal_max         : 1162.0\n",
      "cal_min         : 0.0\n",
      "slice_duration  : 0.0\n",
      "toffset         : 0.0\n",
      "slice_start     : 0\n",
      "slice_end       : 23\n",
      "descrip         : b'FSL3.3\\x00 v2.25 NIfTI-1 Single file format'\n",
      "aux_file        : b''\n",
      "qform_code      : scanner\n",
      "sform_code      : scanner\n",
      "quatern_b       : -1.9451068140294884e-26\n",
      "quatern_c       : -0.9967085123062134\n",
      "quatern_d       : -0.0810687392950058\n",
      "qoffset_x       : 117.8551025390625\n",
      "qoffset_y       : -35.72294235229492\n",
      "qoffset_z       : -7.248798370361328\n",
      "srow_x          : [-2.00000000e+00  6.71471565e-19  9.08102451e-18  1.17855103e+02]\n",
      "srow_y          : [-6.71471565e-19  1.97371149e+00 -3.55528235e-01 -3.57229424e+01]\n",
      "srow_z          : [ 8.25548089e-18  3.23207617e-01  2.17108178e+00 -7.24879837e+00]\n",
      "slice_code      : unknown\n",
      "xyzt_units      : 10\n",
      "intent_code     : none\n",
      "intent_name     : b''\n",
      "dim_info        : 57\n",
      "unused_str      : b''\n"
     ]
    }
   ],
   "source": [
    "n2_header = n2_img.header\n",
    "print(n2_header)"
   ]
  },
  {
   "cell_type": "markdown",
   "metadata": {},
   "source": [
    "## Lording data \n",
    "\n",
    "1. get data from .get_data()\n",
    "2. data type is numpy array"
   ]
  },
  {
   "cell_type": "code",
   "execution_count": 6,
   "metadata": {},
   "outputs": [],
   "source": [
    "img_data = n1_img.get_data()"
   ]
  },
  {
   "cell_type": "code",
   "execution_count": 7,
   "metadata": {},
   "outputs": [
    {
     "name": "stdout",
     "output_type": "stream",
     "text": [
      "(128, 96, 24, 2)\n"
     ]
    }
   ],
   "source": [
    "print(img_data.shape)"
   ]
  },
  {
   "cell_type": "markdown",
   "metadata": {},
   "source": [
    "## Check The voxel orientations　infomation\n",
    "aff2axcodes is Used for Check The voxel orientations infomation\n",
    "\n",
    "### Example "
   ]
  },
  {
   "cell_type": "code",
   "execution_count": 8,
   "metadata": {},
   "outputs": [
    {
     "data": {
      "text/plain": [
       "('L', 'A', 'S')"
      ]
     },
     "execution_count": 8,
     "metadata": {},
     "output_type": "execute_result"
    }
   ],
   "source": [
    "nib.aff2axcodes(n1_img.affine)"
   ]
  },
  {
   "cell_type": "markdown",
   "metadata": {},
   "source": [
    "'L' means : First voxel axis goes from right to Left;  \n",
    "'A' means : Second voxel axis goes from posterior to Anterior;  \n",
    "'S' means :Third voxel axis goes from inferior to Superior.  "
   ]
  },
  {
   "cell_type": "markdown",
   "metadata": {},
   "source": [
    "# get Affine matrics\n",
    "\n",
    "check:Official Document\n",
    "https://nipy.org/nibabel/nifti_images.html"
   ]
  },
  {
   "cell_type": "code",
   "execution_count": 9,
   "metadata": {},
   "outputs": [],
   "source": [
    "affine=n1_img.affine"
   ]
  },
  {
   "cell_type": "code",
   "execution_count": 10,
   "metadata": {},
   "outputs": [
    {
     "data": {
      "text/plain": [
       "array([[-2.00000000e+00,  6.71471565e-19,  9.08102451e-18,\n",
       "         1.17855103e+02],\n",
       "       [-6.71471565e-19,  1.97371149e+00, -3.55528235e-01,\n",
       "        -3.57229424e+01],\n",
       "       [ 8.25548089e-18,  3.23207617e-01,  2.17108178e+00,\n",
       "        -7.24879837e+00],\n",
       "       [ 0.00000000e+00,  0.00000000e+00,  0.00000000e+00,\n",
       "         1.00000000e+00]])"
      ]
     },
     "execution_count": 10,
     "metadata": {},
     "output_type": "execute_result"
    }
   ],
   "source": [
    "affine"
   ]
  },
  {
   "cell_type": "markdown",
   "metadata": {},
   "source": [
    "## get sform affine\n",
    "\n",
    "| Code |\tLabel |\tMeaning |\n",
    "|:---|:------:|:-----:|\n",
    "| 0 | unknown | sform not defined |  \n",
    "| 1 | scanner | RAS+ in scanner coordinates |\n",
    "| 2 | aligned | RAS+ aligned to some other scan |  \n",
    "| 3 | talairach | RAS+ in Talairach atlas space |\n",
    "| 4 | mni | RAS+ in MNI atlas space |\n",
    " \n"
   ]
  },
  {
   "cell_type": "code",
   "execution_count": 11,
   "metadata": {},
   "outputs": [
    {
     "name": "stdout",
     "output_type": "stream",
     "text": [
      "1\n",
      "[[-2.00000000e+00  6.71471565e-19  9.08102451e-18  1.17855103e+02]\n",
      " [-6.71471565e-19  1.97371149e+00 -3.55528235e-01 -3.57229424e+01]\n",
      " [ 8.25548089e-18  3.23207617e-01  2.17108178e+00 -7.24879837e+00]\n",
      " [ 0.00000000e+00  0.00000000e+00  0.00000000e+00  1.00000000e+00]]\n"
     ]
    }
   ],
   "source": [
    "print(n1_header['sform_code'])\n",
    "print(n1_header.get_sform())"
   ]
  },
  {
   "cell_type": "markdown",
   "metadata": {},
   "source": [
    "## get qform affine"
   ]
  },
  {
   "cell_type": "code",
   "execution_count": 12,
   "metadata": {},
   "outputs": [
    {
     "name": "stdout",
     "output_type": "stream",
     "text": [
      "(array([[-2.00000000e+00,  1.02823968e-05,  1.39059804e-04,\n",
      "         1.17855103e+02],\n",
      "       [-1.02823968e-05,  1.97371144e+00, -3.55528225e-01,\n",
      "        -3.57229424e+01],\n",
      "       [ 1.26418055e-04,  3.23207610e-01,  2.17108168e+00,\n",
      "        -7.24879837e+00],\n",
      "       [ 0.00000000e+00,  0.00000000e+00,  0.00000000e+00,\n",
      "         1.00000000e+00]]), 1)\n"
     ]
    }
   ],
   "source": [
    "print(n1_header.get_qform(coded=True))"
   ]
  },
  {
   "cell_type": "markdown",
   "metadata": {},
   "source": [
    "## get the fall-back header affine"
   ]
  },
  {
   "cell_type": "code",
   "execution_count": 13,
   "metadata": {},
   "outputs": [
    {
     "name": "stdout",
     "output_type": "stream",
     "text": [
      "[[ -2.           0.           0.         127.        ]\n",
      " [  0.           2.           0.         -95.        ]\n",
      " [  0.           0.           2.19999909 -25.29998958]\n",
      " [  0.           0.           0.           1.        ]]\n"
     ]
    }
   ],
   "source": [
    "print(n1_header.get_base_affine())"
   ]
  },
  {
   "cell_type": "markdown",
   "metadata": {},
   "source": [
    "## Save NIfTI file"
   ]
  },
  {
   "cell_type": "code",
   "execution_count": 14,
   "metadata": {},
   "outputs": [],
   "source": [
    "nii_file = nib.Nifti1Image(img_data, affine=affine)\n",
    "nib.save(nii_file , 'nii_file.nii')"
   ]
  },
  {
   "cell_type": "code",
   "execution_count": 15,
   "metadata": {},
   "outputs": [],
   "source": [
    "nifti = nib.load('nii_file.nii')"
   ]
  },
  {
   "cell_type": "code",
   "execution_count": null,
   "metadata": {},
   "outputs": [],
   "source": []
  }
 ],
 "metadata": {
  "kernelspec": {
   "display_name": "Python 3",
   "language": "python",
   "name": "python3"
  },
  "language_info": {
   "codemirror_mode": {
    "name": "ipython",
    "version": 3
   },
   "file_extension": ".py",
   "mimetype": "text/x-python",
   "name": "python",
   "nbconvert_exporter": "python",
   "pygments_lexer": "ipython3",
   "version": "3.6.6"
  }
 },
 "nbformat": 4,
 "nbformat_minor": 2
}
